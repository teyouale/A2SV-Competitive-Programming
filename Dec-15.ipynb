{
 "cells": [
  {
   "cell_type": "code",
   "execution_count": 26,
   "metadata": {},
   "outputs": [],
   "source": [
    "def MergeInterval(nums):\n",
    "    result = [ ]\n",
    "    index = 0\n",
    "    nums.sort(key= lambda x:x[0])\n",
    "    while(len(nums) > index):\n",
    "        print(nums[index])\n",
    "        if result and max(result[-1]) >=min(nums[index]):\n",
    "            # result.append(nums[index])\n",
    "            temp=result.pop()\n",
    "            result.append([min(min(nums[index]),min(temp)),max(max(nums[index]),max(temp))])\n",
    "        else:\n",
    "            result.append(nums[index])\n",
    "        index+=1\n",
    "    return result"
   ]
  },
  {
   "cell_type": "code",
   "execution_count": 27,
   "metadata": {},
   "outputs": [
    {
     "name": "stdout",
     "output_type": "stream",
     "text": [
      "[1, 3]\n",
      "[2, 6]\n",
      "[8, 10]\n",
      "[15, 18]\n"
     ]
    },
    {
     "data": {
      "text/plain": [
       "[[1, 6], [8, 10], [15, 18]]"
      ]
     },
     "execution_count": 27,
     "metadata": {},
     "output_type": "execute_result"
    }
   ],
   "source": [
    "Given=[[1,3],[2,6],[8,10],[15,18]]\n",
    "# return [1,6],[8,10],[15,18].\n",
    "MergeInterval(Given)"
   ]
  },
  {
   "cell_type": "code",
   "execution_count": 28,
   "metadata": {},
   "outputs": [],
   "source": [
    "# New"
   ]
  },
  {
   "cell_type": "code",
   "execution_count": 22,
   "metadata": {},
   "outputs": [],
   "source": [
    "import functools\n",
    "def largestNumber(nums):\n",
    "    # nums.sort()\n",
    "    def comparator(x,y):\n",
    "        # print(x,y)\n",
    "        x = str(x)\n",
    "        y = str(y)\n",
    "       \n",
    "        tempxy = ''.join([x,y])\n",
    "        tempyx = ''.join([y,x])\n",
    "        # print(int(tempxy),int(tempyx))\n",
    "        if int(tempxy) > int(tempyx):\n",
    "            return -1\n",
    "        else :\n",
    "            return 1\n",
    "        # print(nums)\n",
    "        # if x == 30:\n",
    "            # return -1\n",
    "    \n",
    "    nums = sorted(nums, key=functools.cmp_to_key(comparator))\n",
    "    # print(''.join(list(nums)))\n",
    "    if \"\".join(list(map(str,nums)))[0] == '0':\n",
    "            return '0'\n",
    "\n",
    "    return \"\".join(list(map(str,nums)))"
   ]
  },
  {
   "cell_type": "code",
   "execution_count": 23,
   "metadata": {},
   "outputs": [
    {
     "data": {
      "text/plain": [
       "'0'"
      ]
     },
     "execution_count": 23,
     "metadata": {},
     "output_type": "execute_result"
    }
   ],
   "source": [
    "given=[3, 30, 94, 5, 9]\n",
    "given = [0,0]\n",
    "# 9534330 Result\n",
    "# given = [10,2]\n",
    "largestNumber(given)"
   ]
  },
  {
   "cell_type": "code",
   "execution_count": null,
   "metadata": {},
   "outputs": [],
   "source": [
    "\n"
   ]
  },
  {
   "cell_type": "code",
   "execution_count": null,
   "metadata": {},
   "outputs": [],
   "source": []
  }
 ],
 "metadata": {
  "interpreter": {
   "hash": "73ef13aecc01cf4addc1ef9a77c7b8f0a7baeaec0a1a109672a77336cbda492d"
  },
  "kernelspec": {
   "display_name": "Python 3.8.12 64-bit ('base': conda)",
   "language": "python",
   "name": "python3"
  },
  "language_info": {
   "codemirror_mode": {
    "name": "ipython",
    "version": 3
   },
   "file_extension": ".py",
   "mimetype": "text/x-python",
   "name": "python",
   "nbconvert_exporter": "python",
   "pygments_lexer": "ipython3",
   "version": "3.8.12"
  },
  "orig_nbformat": 4
 },
 "nbformat": 4,
 "nbformat_minor": 2
}
