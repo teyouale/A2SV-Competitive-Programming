{
 "cells": [
  {
   "cell_type": "markdown",
   "metadata": {},
   "source": [
    "# [Fizz Buzz](412.fizz-buzz.py)\n",
    "# Easy     \n",
    "## Leetcode\n",
    "## 5.7 \n"
   ]
  },
  {
   "cell_type": "code",
   "execution_count": 3,
   "metadata": {},
   "outputs": [],
   "source": [
    "def fizzBuzz(n):\n",
    "    result = []\n",
    "    for i in range(1,n+1):\n",
    "        if i%3 == 0  and i%5 ==0:\n",
    "            result.append('FizzBuzz')\n",
    "        elif i%3 == 0:\n",
    "            result.append('Fizz')\n",
    "        elif i%5 ==0:\n",
    "            result.append('Buzz')\n",
    "        else:\n",
    "            result.append(str(i))\n",
    "    return result"
   ]
  },
  {
   "cell_type": "code",
   "execution_count": 6,
   "metadata": {},
   "outputs": [
    {
     "data": {
      "text/plain": [
       "[1,\n",
       " 2,\n",
       " 'Fizz',\n",
       " 4,\n",
       " 'Buzz',\n",
       " 'Fizz',\n",
       " 7,\n",
       " 8,\n",
       " 'Fizz',\n",
       " 'Buzz',\n",
       " 11,\n",
       " 'Fizz',\n",
       " 13,\n",
       " 14,\n",
       " 'FizzBuzz']"
      ]
     },
     "execution_count": 6,
     "metadata": {},
     "output_type": "execute_result"
    }
   ],
   "source": [
    "fizzBuzz(15)"
   ]
  },
  {
   "cell_type": "markdown",
   "metadata": {},
   "source": [
    "# [Sorting the Sentence ](1859.sorting-the-sentence.py)\n",
    "## Easy\n",
    "## Leetcode\n",
    "## 11.45 sec"
   ]
  },
  {
   "cell_type": "code",
   "execution_count": 62,
   "metadata": {},
   "outputs": [],
   "source": [
    "def sortSentence(s):\n",
    "    temp = s.split(' ')\n",
    "    result = [0]* len(temp) \n",
    "    for i in temp:\n",
    "        # print(i.isDigit())\n",
    "        # print(i.isdigit())\n",
    "        for j in i:\n",
    "            if j.isdigit():\n",
    "                # i.pop(j)\n",
    "                result[int(j)-1] = i[:-1]\n",
    "                # result.pop([int(j)-1])\n",
    "        # print(temp)\n",
    "    return \" \".join(result)"
   ]
  },
  {
   "cell_type": "code",
   "execution_count": 63,
   "metadata": {},
   "outputs": [
    {
     "data": {
      "text/plain": [
       "'This is a sentence'"
      ]
     },
     "execution_count": 63,
     "metadata": {},
     "output_type": "execute_result"
    }
   ],
   "source": [
    "s = \"is2 sentence4 This1 a3\"\n",
    "sortSentence(s)"
   ]
  },
  {
   "cell_type": "markdown",
   "metadata": {},
   "source": [
    "# [How Many Numbers Are Smaller Than the Current Number ](1859.sorting-the-sentence.py)\n",
    "## Easy\n",
    "## Leetcode\n",
    "## 5.4 sec"
   ]
  },
  {
   "cell_type": "code",
   "execution_count": 87,
   "metadata": {},
   "outputs": [],
   "source": [
    "def smallerNumbersThanCurrent(nums):\n",
    "    result = [0] * len(nums)\n",
    "    \n",
    "    for k,i in list(enumerate(nums)):\n",
    "        for y,j in list(enumerate(nums)):\n",
    "            if y != k and i > j:\n",
    "                result[k]+=1\n",
    "                 \n",
    "    return result\n",
    "   "
   ]
  },
  {
   "cell_type": "code",
   "execution_count": 82,
   "metadata": {},
   "outputs": [
    {
     "data": {
      "text/plain": [
       "[0, 0, 0, 0]"
      ]
     },
     "execution_count": 82,
     "metadata": {},
     "output_type": "execute_result"
    }
   ],
   "source": [
    "nums = [8,1,2,2,3]\n",
    "nums = [7,7,7,7]\n",
    "smallerNumbersThanCurrent(nums)"
   ]
  },
  {
   "cell_type": "code",
   "execution_count": 85,
   "metadata": {},
   "outputs": [],
   "source": [
    "def smallerNumbersThanCurrent( nums):\n",
    "        sortedNums = sorted(nums)\n",
    "        dict_count = {}\n",
    "        \n",
    "        for i in range(len(nums)):\n",
    "            if sortedNums[i] not in dict_count:\n",
    "                dict_count[sortedNums[i]] = i \n",
    "                \n",
    "        return [dict_count[num] for num in nums]"
   ]
  },
  {
   "cell_type": "code",
   "execution_count": 86,
   "metadata": {},
   "outputs": [
    {
     "data": {
      "text/plain": [
       "[0, 0, 0, 0]"
      ]
     },
     "execution_count": 86,
     "metadata": {},
     "output_type": "execute_result"
    }
   ],
   "source": [
    "nums = [7,7,7,7]\n",
    "smallerNumbersThanCurrent(nums)"
   ]
  },
  {
   "cell_type": "code",
   "execution_count": 92,
   "metadata": {},
   "outputs": [],
   "source": [
    "def targetIndices(nums,target):\n",
    "    nums.sort()\n",
    "    return [i for i, e in enumerate(nums) if e == target]"
   ]
  },
  {
   "cell_type": "code",
   "execution_count": 93,
   "metadata": {},
   "outputs": [
    {
     "data": {
      "text/plain": [
       "[1, 2]"
      ]
     },
     "execution_count": 93,
     "metadata": {},
     "output_type": "execute_result"
    }
   ],
   "source": [
    "nums = [1,2,5,2,3]\n",
    "target = 2\n",
    "targetIndices(nums,target)"
   ]
  },
  {
   "cell_type": "code",
   "execution_count": 96,
   "metadata": {},
   "outputs": [
    {
     "name": "stdout",
     "output_type": "stream",
     "text": [
      "(0, 1) (1, 2) (2, 2) (3, 3) (4, 5)\n"
     ]
    }
   ],
   "source": [
    "print(*enumerate(nums))"
   ]
  },
  {
   "cell_type": "code",
   "execution_count": 100,
   "metadata": {},
   "outputs": [],
   "source": [
    "import math\n",
    "def kCloseset(points,k):\n",
    "        answers = []\n",
    "        Sorted = []\n",
    "        for i in points:\n",
    "            x = i[0]\n",
    "            y = i[1]\n",
    "            answers.append(math.sqrt((x**2) +(y**2)) )\n",
    "        \n",
    "        Sorted = sorted(answers)\n",
    "#         max(answers)\n",
    "#         print(Sorted)\n",
    "#         print(y)\n",
    "        Sorted = Sorted[0:k]\n",
    "#         print( Sorted[0:k])\n",
    "#         print(Sorted)\n",
    "        final = []\n",
    "    \n",
    "        for j in Sorted:\n",
    "#             q = answers.index(i)\n",
    "            indices = [i for i, x in enumerate(Sorted) if x == j]\n",
    "#             get_indexes = lambda x, xs: [i for (y, i) in zip(xs, range(len(xs))) if x == y]        \n",
    "#             r = get_indexes(Sorted,answers)\n",
    "            final.append(indices)\n",
    "#             for i in indices\n",
    "#             print(indices)\n",
    "            \n",
    "#         print(final)\n",
    "        x = []\n",
    "        for i in range(len(final)):\n",
    "            x.append(final[i][i])\n",
    "        return  [points[i] for i in x ]"
   ]
  },
  {
   "cell_type": "code",
   "execution_count": 102,
   "metadata": {},
   "outputs": [
    {
     "ename": "IndexError",
     "evalue": "list index out of range",
     "output_type": "error",
     "traceback": [
      "\u001b[0;31m---------------------------------------------------------------------------\u001b[0m",
      "\u001b[0;31mIndexError\u001b[0m                                Traceback (most recent call last)",
      "\u001b[0;32m/tmp/ipykernel_66168/2849449700.py\u001b[0m in \u001b[0;36m<module>\u001b[0;34m\u001b[0m\n\u001b[0;32m----> 1\u001b[0;31m \u001b[0mkCloseset\u001b[0m\u001b[0;34m(\u001b[0m\u001b[0;34m[\u001b[0m\u001b[0;34m[\u001b[0m\u001b[0;36m3\u001b[0m\u001b[0;34m,\u001b[0m\u001b[0;36m3\u001b[0m\u001b[0;34m]\u001b[0m\u001b[0;34m,\u001b[0m\u001b[0;34m[\u001b[0m\u001b[0;36m5\u001b[0m\u001b[0;34m,\u001b[0m\u001b[0;34m-\u001b[0m\u001b[0;36m1\u001b[0m\u001b[0;34m]\u001b[0m\u001b[0;34m,\u001b[0m\u001b[0;34m[\u001b[0m\u001b[0;34m-\u001b[0m\u001b[0;36m2\u001b[0m\u001b[0;34m,\u001b[0m\u001b[0;36m4\u001b[0m\u001b[0;34m]\u001b[0m\u001b[0;34m]\u001b[0m\u001b[0;34m,\u001b[0m\u001b[0;36m2\u001b[0m\u001b[0;34m)\u001b[0m\u001b[0;34m\u001b[0m\u001b[0;34m\u001b[0m\u001b[0m\n\u001b[0m",
      "\u001b[0;32m/tmp/ipykernel_66168/738656303.py\u001b[0m in \u001b[0;36mkCloseset\u001b[0;34m(points, k)\u001b[0m\n\u001b[1;32m     29\u001b[0m         \u001b[0mx\u001b[0m \u001b[0;34m=\u001b[0m \u001b[0;34m[\u001b[0m\u001b[0;34m]\u001b[0m\u001b[0;34m\u001b[0m\u001b[0;34m\u001b[0m\u001b[0m\n\u001b[1;32m     30\u001b[0m         \u001b[0;32mfor\u001b[0m \u001b[0mi\u001b[0m \u001b[0;32min\u001b[0m \u001b[0mrange\u001b[0m\u001b[0;34m(\u001b[0m\u001b[0mlen\u001b[0m\u001b[0;34m(\u001b[0m\u001b[0mfinal\u001b[0m\u001b[0;34m)\u001b[0m\u001b[0;34m)\u001b[0m\u001b[0;34m:\u001b[0m\u001b[0;34m\u001b[0m\u001b[0;34m\u001b[0m\u001b[0m\n\u001b[0;32m---> 31\u001b[0;31m             \u001b[0mx\u001b[0m\u001b[0;34m.\u001b[0m\u001b[0mappend\u001b[0m\u001b[0;34m(\u001b[0m\u001b[0mfinal\u001b[0m\u001b[0;34m[\u001b[0m\u001b[0mi\u001b[0m\u001b[0;34m]\u001b[0m\u001b[0;34m[\u001b[0m\u001b[0mi\u001b[0m\u001b[0;34m]\u001b[0m\u001b[0;34m)\u001b[0m\u001b[0;34m\u001b[0m\u001b[0;34m\u001b[0m\u001b[0m\n\u001b[0m\u001b[1;32m     32\u001b[0m         \u001b[0;32mreturn\u001b[0m  \u001b[0;34m[\u001b[0m\u001b[0mpoints\u001b[0m\u001b[0;34m[\u001b[0m\u001b[0mi\u001b[0m\u001b[0;34m]\u001b[0m \u001b[0;32mfor\u001b[0m \u001b[0mi\u001b[0m \u001b[0;32min\u001b[0m \u001b[0mx\u001b[0m \u001b[0;34m]\u001b[0m\u001b[0;34m\u001b[0m\u001b[0;34m\u001b[0m\u001b[0m\n",
      "\u001b[0;31mIndexError\u001b[0m: list index out of range"
     ]
    }
   ],
   "source": [
    "kCloseset([[3,3],[5,-1],[-2,4]],2)"
   ]
  },
  {
   "cell_type": "code",
   "execution_count": null,
   "metadata": {},
   "outputs": [],
   "source": []
  }
 ],
 "metadata": {
  "interpreter": {
   "hash": "73ef13aecc01cf4addc1ef9a77c7b8f0a7baeaec0a1a109672a77336cbda492d"
  },
  "kernelspec": {
   "display_name": "Python 3.8.12 64-bit ('base': conda)",
   "language": "python",
   "name": "python3"
  },
  "language_info": {
   "codemirror_mode": {
    "name": "ipython",
    "version": 3
   },
   "file_extension": ".py",
   "mimetype": "text/x-python",
   "name": "python",
   "nbconvert_exporter": "python",
   "pygments_lexer": "ipython3",
   "version": "3.8.12"
  },
  "orig_nbformat": 4
 },
 "nbformat": 4,
 "nbformat_minor": 2
}
