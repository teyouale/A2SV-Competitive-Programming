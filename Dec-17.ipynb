{
 "cells": [
  {
   "cell_type": "code",
   "execution_count": 41,
   "metadata": {},
   "outputs": [],
   "source": [
    "from collections import Counter"
   ]
  },
  {
   "cell_type": "code",
   "execution_count": 95,
   "metadata": {},
   "outputs": [],
   "source": [
    "def maxOperations(nums,k):\n",
    "    count = 0\n",
    "    occ = Counter(nums)\n",
    "    print(occ)\n",
    "\n",
    "    for i in list(occ.keys()):\n",
    "        temp = k - i\n",
    "    \n",
    "        print(temp)\n",
    "        if i == k/2 and temp in occ.keys() :\n",
    "            print(occ[i])\n",
    "            count+= occ[i]//2\n",
    "\n",
    "        elif temp in occ.keys():\n",
    "            count+=min(occ[i],occ[temp])\n",
    "            del occ[i]\n",
    "            del occ[temp]\n",
    "        \n",
    "\n",
    "    return count\n",
    "\n"
   ]
  },
  {
   "cell_type": "code",
   "execution_count": 99,
   "metadata": {},
   "outputs": [
    {
     "name": "stdout",
     "output_type": "stream",
     "text": [
      "Counter({1: 1, 2: 1, 3: 1, 4: 1})\n",
      "4\n",
      "3\n",
      "2\n",
      "1\n"
     ]
    },
    {
     "data": {
      "text/plain": [
       "2"
      ]
     },
     "execution_count": 99,
     "metadata": {},
     "output_type": "execute_result"
    }
   ],
   "source": [
    "nums = [1,2,3,4]\n",
    "k = 5\n",
    "# nums = [3,1,3,4,3]\n",
    "# k = 6\n",
    "# nums = [3,1,5,1,1,1,1,1,2,2,3,2,2]\n",
    "# k = 1\n",
    "maxOperations(nums,k)"
   ]
  },
  {
   "cell_type": "markdown",
   "metadata": {},
   "source": [
    "#New\n",
    "# Arithmetic Subarrays"
   ]
  },
  {
   "cell_type": "code",
   "execution_count": 191,
   "metadata": {},
   "outputs": [],
   "source": [
    "def isArt(nums,m):\n",
    "        # print(m[1],\"asdf\")\n",
    "        subarray = nums[m[0]:m[1]+1]\n",
    "        print(subarray)\n",
    "        subarray.sort()\n",
    "        diff = abs(subarray[1] - subarray[0])\n",
    "        if(diff ==0):\n",
    "                # print(subarray[0],subarray[1],diff)\n",
    "                temp =set(subarray)\n",
    "                print(len(temp))\n",
    "                # print([True len(temp) == 0 else False])\n",
    "                return True if len(temp) == 1 else False\n",
    "                # for i sub\n",
    "        else:\n",
    "                exp = [*range(subarray[0],subarray[-1]+1,diff)]\n",
    "        # print(subarray,exp)\n",
    "        # print(subarray == exp)\n",
    "                return subarray == exp\n",
    "        \n",
    "def checkArithmeticSubarrays(nums,l,r):\n",
    "        # nums.sort()\n",
    "        result = []\n",
    "        for i in range(len(l)):\n",
    "                # print(l[i],r[i])\n",
    "                result.append(isArt(nums,[l[i],r[i]]))\n",
    "\n",
    "        return result\n",
    "    # print(nums[m[0]:m[1]+1])\n",
    "    # return nums"
   ]
  },
  {
   "cell_type": "code",
   "execution_count": 192,
   "metadata": {},
   "outputs": [
    {
     "name": "stdout",
     "output_type": "stream",
     "text": [
      "[7, 7, 7, 7]\n",
      "1\n"
     ]
    },
    {
     "data": {
      "text/plain": [
       "[True]"
      ]
     },
     "execution_count": 192,
     "metadata": {},
     "output_type": "execute_result"
    }
   ],
   "source": [
    "# nums = [4,6,5,9,3,7]\n",
    "# l = [0,0,2]\n",
    "# r = [2,3,5]\n",
    "# nums = [-12,-9,-3,-12,-6,15,20,-25,-20,-15,-10]\n",
    "# l = [0,1,6,4,8,7]\n",
    "# r = [4,4,9,7,9,10]\n",
    "nums = [7,7,7,7,-6,15,20,-25,-20,-15,-10]\n",
    "l = [0]\n",
    "r = [3]\n",
    "checkArithmeticSubarrays(nums,l,r)"
   ]
  },
  {
   "cell_type": "markdown",
   "metadata": {},
   "source": [
    "# Maximum Number of Coins You Can Get"
   ]
  },
  {
   "cell_type": "code",
   "execution_count": 2,
   "metadata": {},
   "outputs": [],
   "source": [
    "def maxCoins(piles):\n",
    "    piles.sort()\n",
    "    count = 0 \n",
    "    index = len(piles)//3\n",
    "    while (index > 0):\n",
    "        A=piles.pop(-1)\n",
    "\n",
    "        y=piles.pop(-1)\n",
    "        count+=y\n",
    "\n",
    "        C=piles.pop(0)\n",
    "        \n",
    "        index-=1\n",
    "    return count"
   ]
  },
  {
   "cell_type": "code",
   "execution_count": 6,
   "metadata": {},
   "outputs": [
    {
     "data": {
      "text/plain": [
       "9"
      ]
     },
     "execution_count": 6,
     "metadata": {},
     "output_type": "execute_result"
    }
   ],
   "source": [
    "piles = [2,4,1,2,7,8]\n",
    "# piles = [2,4,5]\n",
    "maxCoins(piles)"
   ]
  },
  {
   "cell_type": "code",
   "execution_count": 10,
   "metadata": {},
   "outputs": [
    {
     "name": "stdout",
     "output_type": "stream",
     "text": [
      "[1, 2, 2, 4, 7, 8]\n",
      "9\n"
     ]
    }
   ],
   "source": [
    "piles = [2,4,1,2,7,8]\n",
    "piles.sort()\n",
    "print(piles)\n",
    "x =sum(piles[len(piles)//3::2])\n",
    "print(x)"
   ]
  },
  {
   "cell_type": "code",
   "execution_count": 19,
   "metadata": {},
   "outputs": [
    {
     "data": {
      "text/plain": [
       "[3, 5]"
      ]
     },
     "execution_count": 19,
     "metadata": {},
     "output_type": "execute_result"
    }
   ],
   "source": [
    "piles = [1,2,3,4,5,6]\n",
    "piles.sort\n",
    "piles[len(piles)//3::2]"
   ]
  },
  {
   "cell_type": "code",
   "execution_count": 26,
   "metadata": {},
   "outputs": [
    {
     "data": {
      "text/plain": [
       "[3, 5]"
      ]
     },
     "execution_count": 26,
     "metadata": {},
     "output_type": "execute_result"
    }
   ],
   "source": [
    "piles[2::2]"
   ]
  },
  {
   "cell_type": "code",
   "execution_count": null,
   "metadata": {},
   "outputs": [],
   "source": []
  },
  {
   "cell_type": "code",
   "execution_count": 4,
   "metadata": {},
   "outputs": [],
   "source": [
    "\n",
    "from collections import deque"
   ]
  },
  {
   "cell_type": "markdown",
   "metadata": {},
   "source": [
    "# Evaluate Reverse Polish Notation"
   ]
  },
  {
   "cell_type": "code",
   "execution_count": 124,
   "metadata": {},
   "outputs": [],
   "source": [
    "def evalRPN (tokens):\n",
    "    rules = ['+','-','*','/']\n",
    "    ops = {\"+\": (lambda x,y: x+y), \"-\": (lambda x,y: x-y), \"*\": (lambda x,y: x * y), \"/\": (lambda x,y: int(x/y))}\n",
    "    stack = deque()\n",
    "\n",
    "    for i in tokens:\n",
    "        if i in rules:\n",
    "            x = int(stack.pop())\n",
    "            y = int(stack.pop())\n",
    "            print(ops[i](y,x),y,x,i)\n",
    "            stack.append(ops[i](y,x))\n",
    "            print(stack)\n",
    "        else:\n",
    "            stack.append(i)\n",
    "\n",
    "    return stack.pop()"
   ]
  },
  {
   "cell_type": "code",
   "execution_count": 126,
   "metadata": {},
   "outputs": [
    {
     "name": "stdout",
     "output_type": "stream",
     "text": [
      "2 13 5 /\n",
      "deque(['4', 2])\n",
      "6 4 2 +\n",
      "deque([6])\n"
     ]
    },
    {
     "data": {
      "text/plain": [
       "6"
      ]
     },
     "execution_count": 126,
     "metadata": {},
     "output_type": "execute_result"
    }
   ],
   "source": [
    "# tokens = [\"2\",\"1\",\"+\",\"3\",\"*\"]\n",
    "# tokens = [\"4\",\"13\",\"5\",\"/\",\"+\"]\n",
    "# tokens = [\"10\",\"6\",\"9\",\"3\",\"+\",\"-11\",\"*\",\"/\",\"*\",\"17\",\"+\",\"5\",\"+\"]\n",
    "evalRPN(tokens)"
   ]
  },
  {
   "cell_type": "code",
   "execution_count": 116,
   "metadata": {},
   "outputs": [],
   "source": [
    "y = ord('+')\n"
   ]
  },
  {
   "cell_type": "code",
   "execution_count": 13,
   "metadata": {},
   "outputs": [
    {
     "ename": "TypeError",
     "evalue": "str() argument 2 must be str, not int",
     "output_type": "error",
     "traceback": [
      "\u001b[0;31m---------------------------------------------------------------------------\u001b[0m",
      "\u001b[0;31mTypeError\u001b[0m                                 Traceback (most recent call last)",
      "\u001b[0;32m/tmp/ipykernel_18710/3627513303.py\u001b[0m in \u001b[0;36m<module>\u001b[0;34m\u001b[0m\n\u001b[0;32m----> 1\u001b[0;31m \u001b[0mstr\u001b[0m\u001b[0;34m(\u001b[0m\u001b[0;36m1\u001b[0m\u001b[0;34m,\u001b[0m\u001b[0my\u001b[0m\u001b[0;34m,\u001b[0m\u001b[0;36m2\u001b[0m\u001b[0;34m)\u001b[0m\u001b[0;34m\u001b[0m\u001b[0;34m\u001b[0m\u001b[0m\n\u001b[0m",
      "\u001b[0;31mTypeError\u001b[0m: str() argument 2 must be str, not int"
     ]
    }
   ],
   "source": [
    "str(1,y,2)\n"
   ]
  },
  {
   "cell_type": "code",
   "execution_count": 15,
   "metadata": {},
   "outputs": [
    {
     "ename": "SyntaxError",
     "evalue": "invalid syntax (741568990.py, line 1)",
     "output_type": "error",
     "traceback": [
      "\u001b[0;36m  File \u001b[0;32m\"/tmp/ipykernel_18710/741568990.py\"\u001b[0;36m, line \u001b[0;32m1\u001b[0m\n\u001b[0;31m    type(+)\u001b[0m\n\u001b[0m          ^\u001b[0m\n\u001b[0;31mSyntaxError\u001b[0m\u001b[0;31m:\u001b[0m invalid syntax\n"
     ]
    }
   ],
   "source": [
    "type(+)"
   ]
  },
  {
   "cell_type": "code",
   "execution_count": 23,
   "metadata": {},
   "outputs": [],
   "source": [
    "ops = {\"+\": (lambda x,y: x+y), \"-\": (lambda x,y: x-y)}"
   ]
  },
  {
   "cell_type": "code",
   "execution_count": 24,
   "metadata": {},
   "outputs": [
    {
     "name": "stdout",
     "output_type": "stream",
     "text": [
      "6\n"
     ]
    }
   ],
   "source": [
    "print(ops['+'](2,4))"
   ]
  },
  {
   "cell_type": "code",
   "execution_count": 1,
   "metadata": {},
   "outputs": [
    {
     "data": {
      "text/plain": [
       "8"
      ]
     },
     "execution_count": 1,
     "metadata": {},
     "output_type": "execute_result"
    }
   ],
   "source": [
    "int(8.345)"
   ]
  },
  {
   "cell_type": "code",
   "execution_count": null,
   "metadata": {},
   "outputs": [],
   "source": []
  },
  {
   "cell_type": "markdown",
   "metadata": {},
   "source": [
    "# Reverse Substrings Between Each Pair of Parentheses\n",
    "## Failed Work with Stack"
   ]
  },
  {
   "cell_type": "code",
   "execution_count": 185,
   "metadata": {},
   "outputs": [],
   "source": [
    "def reverseParentheses(s):\n",
    "    rule = ['(',')']\n",
    "    counter = {'open':[],'close':[]}\n",
    "    result = ''\n",
    "    for i,v in list(enumerate(s)):\n",
    "        if v == rule[0]:\n",
    "            counter['open'].append(i)\n",
    "        elif v == rule[1]:\n",
    "            counter['close'].append(i)\n",
    "        \n",
    "    \n",
    "    counter['open'].sort(reverse=True)\n",
    "    print(counter)\n",
    "    temp = len(counter['close'])\n",
    "    for i in range(temp):\n",
    "        # print(i)\n",
    "        # s[counter['close'][i]:counter['open'][temp-1-i]:-1]\n",
    "        x= counter['open'][i]\n",
    "        y = counter['close'][i]\n",
    "        # print(x,y)\n",
    "        temp = s[y+1:x+1]\n",
    "        temp = temp[::-1]\n",
    "        # print(temp)\n",
    "        # print(y,x)\n",
    "        # print(s[y:x+2])\n",
    "        print(s.replace(s[y:x+2],temp))\n",
    "        # temp = s[]\n",
    "    # return s"
   ]
  },
  {
   "cell_type": "code",
   "execution_count": 186,
   "metadata": {},
   "outputs": [
    {
     "name": "stdout",
     "output_type": "stream",
     "text": [
      "{'open': [6, 3, 0], 'close': [9, 10, 13]}\n",
      "(ed(et(oc))el)\n",
      "(ed(et(oc))el)\n",
      "(ed(et(oc))el)\n"
     ]
    }
   ],
   "source": [
    "# s = \"(abcd)\"\n",
    "s = \"(ed(et(oc))el)\"\n",
    "# Output: \"dcba\"\n",
    "reverseParentheses(s)\n"
   ]
  },
  {
   "cell_type": "code",
   "execution_count": 187,
   "metadata": {},
   "outputs": [
    {
     "name": "stdout",
     "output_type": "stream",
     "text": [
      "(oc\n",
      "(et(oc)\n",
      "(ed(et(oc))el\n"
     ]
    }
   ],
   "source": [
    "s = \"(ed(et(oc))el)\"\n",
    "# temp = s[7:9:-1]\n",
    "x = s[6:9]\n",
    "y = s[3:10]\n",
    "z = s[0:13]\n",
    "\n",
    "\n",
    "print(x)\n",
    "print(y)\n",
    "print(z)\n",
    "# print(s.replace(s[6:10],temp))\n"
   ]
  },
  {
   "cell_type": "code",
   "execution_count": 188,
   "metadata": {},
   "outputs": [
    {
     "name": "stdout",
     "output_type": "stream",
     "text": [
      "(etco)\n"
     ]
    }
   ],
   "source": [
    "s = \"(ed(etco)el)\"\n",
    "temp = s[3:9]\n",
    "print(temp)"
   ]
  },
  {
   "cell_type": "code",
   "execution_count": 189,
   "metadata": {},
   "outputs": [
    {
     "name": "stdout",
     "output_type": "stream",
     "text": [
      "\u001b[0;31mInit signature:\u001b[0m \u001b[0mreversed\u001b[0m\u001b[0;34m(\u001b[0m\u001b[0msequence\u001b[0m\u001b[0;34m,\u001b[0m \u001b[0;34m/\u001b[0m\u001b[0;34m)\u001b[0m\u001b[0;34m\u001b[0m\u001b[0;34m\u001b[0m\u001b[0m\n",
      "\u001b[0;31mDocstring:\u001b[0m      Return a reverse iterator over the values of the given sequence.\n",
      "\u001b[0;31mType:\u001b[0m           type\n",
      "\u001b[0;31mSubclasses:\u001b[0m     \n"
     ]
    }
   ],
   "source": [
    "reversed?"
   ]
  },
  {
   "cell_type": "code",
   "execution_count": 190,
   "metadata": {},
   "outputs": [
    {
     "data": {
      "text/plain": [
       "'dcba'"
      ]
     },
     "execution_count": 190,
     "metadata": {},
     "output_type": "execute_result"
    }
   ],
   "source": [
    "# Reverse Sting\n",
    "s = '(abcd)'\n",
    "s[4:0:-1]"
   ]
  },
  {
   "cell_type": "markdown",
   "metadata": {},
   "source": [
    "# Number of Recent Calls\n",
    "#"
   ]
  },
  {
   "cell_type": "code",
   "execution_count": 222,
   "metadata": {},
   "outputs": [],
   "source": [
    "class RecentCounter:\n",
    "    # stack = []\n",
    "    \n",
    "    def __init__(self):\n",
    "        self.stack  = []\n",
    "        return\n",
    "\n",
    "    def ping(self, t: int) :\n",
    "\n",
    "        return "
   ]
  },
  {
   "cell_type": "code",
   "execution_count": 223,
   "metadata": {},
   "outputs": [],
   "source": [
    "obj = RecentCounter()"
   ]
  },
  {
   "cell_type": "code",
   "execution_count": 224,
   "metadata": {},
   "outputs": [
    {
     "data": {
      "text/plain": [
       "3"
      ]
     },
     "execution_count": 224,
     "metadata": {},
     "output_type": "execute_result"
    }
   ],
   "source": [
    "# print(obj.ping(3))\n",
    "obj.ping(2)"
   ]
  },
  {
   "cell_type": "code",
   "execution_count": null,
   "metadata": {},
   "outputs": [],
   "source": []
  }
 ],
 "metadata": {
  "interpreter": {
   "hash": "73ef13aecc01cf4addc1ef9a77c7b8f0a7baeaec0a1a109672a77336cbda492d"
  },
  "kernelspec": {
   "display_name": "Python 3.8.12 64-bit ('base': conda)",
   "language": "python",
   "name": "python3"
  },
  "language_info": {
   "codemirror_mode": {
    "name": "ipython",
    "version": 3
   },
   "file_extension": ".py",
   "mimetype": "text/x-python",
   "name": "python",
   "nbconvert_exporter": "python",
   "pygments_lexer": "ipython3",
   "version": "3.8.12"
  },
  "orig_nbformat": 4
 },
 "nbformat": 4,
 "nbformat_minor": 2
}
