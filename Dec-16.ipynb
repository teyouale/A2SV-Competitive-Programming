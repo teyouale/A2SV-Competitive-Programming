{
 "cells": [
  {
   "cell_type": "code",
   "execution_count": 1,
   "metadata": {},
   "outputs": [],
   "source": [
    "# Vaild Parenthese"
   ]
  },
  {
   "cell_type": "code",
   "execution_count": 68,
   "metadata": {},
   "outputs": [],
   "source": [
    "def isValid(str):\n",
    "    # rule = ['(',')' ,'{', '}','[' ,']']\n",
    "    openRule = ['(','{','[']\n",
    "    closeRule = [')','}',']']\n",
    "    # print(rule)\n",
    "    stack =[]\n",
    "\n",
    "    result = True\n",
    "\n",
    "    if len(str) % 2 != 0:\n",
    "        return False\n",
    "    \n",
    "    for i in str:\n",
    "        if i in openRule:\n",
    "            stack.append(i)\n",
    "        elif i in closeRule:\n",
    "            temp = closeRule.index(i)\n",
    "            Item= openRule[temp]\n",
    "            if stack:\n",
    "                # print(stack)\n",
    "                popItem = stack.pop()\n",
    "            # print(temp,Item,popItem,stack)\n",
    "            # print(popItem == Item)\n",
    "                if Item != popItem:\n",
    "                    return False\n",
    "            else:\n",
    "                result = False\n",
    "        else :\n",
    "            return False\n",
    "    # print(stack,len(stack))\n",
    "    if len(stack) != 0 :\n",
    "        return False\n",
    "\n",
    "    return result"
   ]
  },
  {
   "cell_type": "code",
   "execution_count": 77,
   "metadata": {},
   "outputs": [
    {
     "data": {
      "text/plain": [
       "False"
      ]
     },
     "execution_count": 77,
     "metadata": {},
     "output_type": "execute_result"
    }
   ],
   "source": [
    "# Input: \n",
    "# s = \"()\"\n",
    "# s = [\")\",\"{\"]\n",
    "# s = \"()[]{}\"\n",
    "# s = \"(]\"\n",
    "# s = '(('\n",
    "# s=']]'\n",
    "s = '(}}}'\n",
    "# Output: true\n",
    "\n",
    "isValid(s)"
   ]
  },
  {
   "cell_type": "code",
   "execution_count": 76,
   "metadata": {},
   "outputs": [
    {
     "name": "stdout",
     "output_type": "stream",
     "text": [
      "j\n"
     ]
    }
   ],
   "source": [
    "s = [1]\n",
    "if s :\n",
    "    print('j')"
   ]
  },
  {
   "cell_type": "code",
   "execution_count": 137,
   "metadata": {},
   "outputs": [],
   "source": [
    "from collections import Counter\n",
    "def topKFrequent(nums,key):\n",
    "    # nums.sort()\n",
    "    # result = dict()\n",
    "    # for i in nums:\n",
    "    #     if i in result:\n",
    "    #         result[i]+=1\n",
    "    #     else:\n",
    "    #         result[i]=1\n",
    "    \n",
    "    # # result.sort()\n",
    "    # # sorted(result,key= lambda x:x[1])\n",
    "    # # for (k,v) in result.items():\n",
    "    # #     if v >= 2:\n",
    "    # #         tem\n",
    "    # print(result)\n",
    "    # filtered_dict = [ k for k,v in result.items() if k <= key]\n",
    "    # filtered_dict.sort()\n",
    "    # return filtered_dict\n",
    "        c = Counter(nums)\n",
    "        return [e for e, _ in c.most_common(k)]\n",
    "        # for x in occ:\n",
    "            # result.append(x)\n",
    "            # print(occ[x])\n",
    "        \n",
    "        # return x[:key]"
   ]
  },
  {
   "cell_type": "code",
   "execution_count": 144,
   "metadata": {},
   "outputs": [
    {
     "name": "stdout",
     "output_type": "stream",
     "text": [
      "[0, 1]\n"
     ]
    }
   ],
   "source": [
    "nums = [-1,-1]\n",
    "# nums = [1,1,1,2,2,3]\n",
    "nums = [4,1,-1,2,-1,2,3]\n",
    "nums = [3,0,1,0]\n",
    "k = 2\n",
    "topKFrequent(nums,k)"
   ]
  },
  {
   "cell_type": "code",
   "execution_count": null,
   "metadata": {},
   "outputs": [],
   "source": []
  },
  {
   "cell_type": "code",
   "execution_count": 172,
   "metadata": {},
   "outputs": [],
   "source": [
    "from collections import Counter\n",
    "\n",
    "def numIdenticalPairs(nums):\n",
    "    count = 0\n",
    "    occ = Counter(nums)\n",
    "    for k,i in occ.items():\n",
    "        # n * (n – 1) // 2\n",
    "        temp = i * (i-1) // 2 \n",
    "        count += temp\n",
    "        # print(i)\n",
    "    \n",
    "    print(count)\n",
    "    return occ"
   ]
  },
  {
   "cell_type": "code",
   "execution_count": 175,
   "metadata": {},
   "outputs": [
    {
     "name": "stdout",
     "output_type": "stream",
     "text": [
      "0\n"
     ]
    },
    {
     "data": {
      "text/plain": [
       "Counter({1: 1, 2: 1, 3: 1})"
      ]
     },
     "execution_count": 175,
     "metadata": {},
     "output_type": "execute_result"
    }
   ],
   "source": [
    "nums = [1,2,3,1,1,3]\n",
    "nums = [1,1,1,1]\n",
    "nums = [1,2,3]\n",
    "numIdenticalPairs(nums)"
   ]
  },
  {
   "cell_type": "code",
   "execution_count": null,
   "metadata": {},
   "outputs": [],
   "source": []
  },
  {
   "cell_type": "code",
   "execution_count": null,
   "metadata": {},
   "outputs": [],
   "source": []
  }
 ],
 "metadata": {
  "interpreter": {
   "hash": "73ef13aecc01cf4addc1ef9a77c7b8f0a7baeaec0a1a109672a77336cbda492d"
  },
  "kernelspec": {
   "display_name": "Python 3.8.12 64-bit ('base': conda)",
   "language": "python",
   "name": "python3"
  },
  "language_info": {
   "codemirror_mode": {
    "name": "ipython",
    "version": 3
   },
   "file_extension": ".py",
   "mimetype": "text/x-python",
   "name": "python",
   "nbconvert_exporter": "python",
   "pygments_lexer": "ipython3",
   "version": "3.8.12"
  },
  "orig_nbformat": 4
 },
 "nbformat": 4,
 "nbformat_minor": 2
}
